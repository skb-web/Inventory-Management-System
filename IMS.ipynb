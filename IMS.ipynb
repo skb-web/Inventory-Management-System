{
  "nbformat": 4,
  "nbformat_minor": 0,
  "metadata": {
    "colab": {
      "name": "IMS.ipynb",
      "provenance": [],
      "collapsed_sections": [],
      "authorship_tag": "ABX9TyNNUET1sojIjOgg+TlD0gYC",
      "include_colab_link": true
    },
    "kernelspec": {
      "name": "python3",
      "display_name": "Python 3"
    },
    "language_info": {
      "name": "python"
    }
  },
  "cells": [
    {
      "cell_type": "markdown",
      "metadata": {
        "id": "view-in-github",
        "colab_type": "text"
      },
      "source": [
        "<a href=\"https://colab.research.google.com/github/skb-web/Inventory-Management-System/blob/main/IMS.ipynb\" target=\"_parent\"><img src=\"https://colab.research.google.com/assets/colab-badge.svg\" alt=\"Open In Colab\"/></a>"
      ]
    },
    {
      "cell_type": "code",
      "metadata": {
        "id": "YT9iUmJdGeZO"
      },
      "source": [
        "rec = { '1001': {'name': 'Choco Cake', 'pr': 100, 'qn': 34},\n",
        "        '1002': {'name': 'Milk Cake', 'pr': 800, 'qn': 100},\n",
        "        '1003': {'name': 'Drink', 'pr': 85, 'qn': 100},\n",
        "        '1004': {'name': 'Candy', 'pr': 5, 'qn': 1000},\n",
        "        '1005': {'name': 'Pen', 'pr': 20, 'qn': 100},\n",
        "        '1006': {'name': 'Phone', 'pr': 50000, 'qn': 10},\n",
        "        '1007': {'name': 'Mic', 'pr': 1500, 'qn': 0},\n",
        "        '1008': {'name': 'Case', 'pr': 599, 'qn': 5},\n",
        "        '1009' : {'name': 'Microphone', 'pr': 1500, 'qn': 0},\n",
        "        '10010': {'name': 'Case File', 'pr': 599, 'qn': 5},\n",
        "        '10011': {'name': 'Choco Cake', 'pr': 100, 'qn': 34},\n",
        "        '10012': {'name': 'Milk Cake', 'pr': 800, 'qn': 100},\n",
        "        '10013': {'name': 'Drink', 'pr': 85, 'qn': 100},\n",
        "        '10014': {'name': 'Candy', 'pr': 5, 'qn': 1000},\n",
        "        '10015': {'name': 'Pen', 'pr': 20, 'qn': 100},\n",
        "        '10016': {'name': 'Phone', 'pr': 50000, 'qn': 10},\n",
        "        '10017': {'name': 'Mic', 'pr': 1500, 'qn': 0},\n",
        "        '10018': {'name': 'Case', 'pr': 599, 'qn': 5},\n",
        "        '10019': {'name': 'Microphone', 'pr': 1500, 'qn': 0},\n",
        "        '10020': {'name': 'Case File', 'pr': 599, 'qn': 5},\n",
        "        '10021': {'name': 'Choco Cake', 'pr': 100, 'qn': 34},\n",
        "        '10022': {'name': 'Milk Cake', 'pr': 800, 'qn': 100},\n",
        "        '10023': {'name': 'Drink', 'pr': 85, 'qn': 100},  \n",
        "        '10024': {'name': 'Candy', 'pr': 5, 'qn': 1000}, \n",
        "        '10025': {'name': 'Pen', 'pr': 20, 'qn': 100},\n",
        "        '10026': {'name': 'Phone', 'pr': 50000, 'qn': 10},\n",
        "        '10027': {'name': 'Mic', 'pr': 1500, 'qn': 0},\n",
        "        '10028': {'name': 'Case', 'pr': 599, 'qn': 5},\n",
        "        '10029': {'name': 'Microphone', 'pr': 1500, 'qn': 0},\n",
        "        '10030': {'name': 'Case File', 'pr': 599, 'qn': 5},\n",
        "        '10031': {'name': 'Choco Cake', 'pr': 100, 'qn': 34},\n",
        "        '10032': {'name': 'Milk Cake', 'pr': 800, 'qn': 100},\n",
        "        '10033': {'name': 'Drink', 'pr': 85, 'qn': 100},\n",
        "        '10034': {'name': 'Candy', 'pr': 5, 'qn': 1000},\n",
        "        '10035': {'name': 'Pen', 'pr': 20, 'qn': 100},\n",
        "        '10036': {'name': 'Phone', 'pr': 50000, 'qn': 10},\n",
        "        '10037': {'name': 'Mic', 'pr': 1500, 'qn': 0},\n",
        "        '10038': {'name': 'Case', 'pr': 599, 'qn': 5},\n",
        "        '10039': {'name': 'Microphone', 'pr': 1500, 'qn': 0},\n",
        "        '10040': {'name': 'Case File', 'pr': 599, 'qn': 5},\n",
        "        '10041': {'name': 'Choco Cake', 'pr': 100, 'qn': 34},\n",
        "        '10042': {'name': 'Milk Cake', 'pr': 800, 'qn': 100},\n",
        "        '10043': {'name': 'Drink', 'pr': 85, 'qn': 100},\n",
        "        '10044': {'name': 'Candy', 'pr': 5, 'qn': 1000},\n",
        "        '10045': {'name': 'Pen', 'pr': 20, 'qn': 100},\n",
        "        '10046': {'name': 'Phone', 'pr': 50000, 'qn': 10},\n",
        "        '10047': {'name': 'Mic', 'pr': 1500, 'qn': 0},\n",
        "        '10048': {'name': 'Case', 'pr': 599, 'qn': 5},\n",
        "        '10049': {'name': 'Microphone', 'pr': 1500, 'qn': 0},\n",
        "        '10050': {'name': 'Case File', 'pr': 599, 'qn': 5}}"
      ],
      "execution_count": 76,
      "outputs": []
    },
    {
      "cell_type": "code",
      "metadata": {
        "id": "uKqorWXjMWQY"
      },
      "source": [
        "import json\n",
        "js = json.dumps(rec)"
      ],
      "execution_count": 77,
      "outputs": []
    },
    {
      "cell_type": "code",
      "metadata": {
        "colab": {
          "base_uri": "https://localhost:8080/"
        },
        "id": "C57gm8_HT1y5",
        "outputId": "0a838032-94aa-4edc-f36d-bf474bfb144e"
      },
      "source": [
        "type(js)"
      ],
      "execution_count": 78,
      "outputs": [
        {
          "output_type": "execute_result",
          "data": {
            "text/plain": [
              "str"
            ]
          },
          "metadata": {},
          "execution_count": 78
        }
      ]
    },
    {
      "cell_type": "code",
      "metadata": {
        "colab": {
          "base_uri": "https://localhost:8080/",
          "height": 137
        },
        "id": "OWo4mWkgUEQs",
        "outputId": "7f201bc3-546d-4e78-b04a-6d667b7f59b9"
      },
      "source": [
        "js"
      ],
      "execution_count": 79,
      "outputs": [
        {
          "output_type": "execute_result",
          "data": {
            "application/vnd.google.colaboratory.intrinsic+json": {
              "type": "string"
            },
            "text/plain": [
              "'{\"1001\": {\"name\": \"Choco Cake\", \"pr\": 100, \"qn\": 34}, \"1002\": {\"name\": \"Milk Cake\", \"pr\": 800, \"qn\": 100}, \"1003\": {\"name\": \"Drink\", \"pr\": 85, \"qn\": 100}, \"1004\": {\"name\": \"Candy\", \"pr\": 5, \"qn\": 1000}, \"1005\": {\"name\": \"Pen\", \"pr\": 20, \"qn\": 100}, \"1006\": {\"name\": \"Phone\", \"pr\": 50000, \"qn\": 10}, \"1007\": {\"name\": \"Mic\", \"pr\": 1500, \"qn\": 0}, \"1008\": {\"name\": \"Case\", \"pr\": 599, \"qn\": 5}, \"1009\": {\"name\": \"Microphone\", \"pr\": 1500, \"qn\": 0}, \"10010\": {\"name\": \"Case File\", \"pr\": 599, \"qn\": 5}, \"10011\": {\"name\": \"Choco Cake\", \"pr\": 100, \"qn\": 34}, \"10012\": {\"name\": \"Milk Cake\", \"pr\": 800, \"qn\": 100}, \"10013\": {\"name\": \"Drink\", \"pr\": 85, \"qn\": 100}, \"10014\": {\"name\": \"Candy\", \"pr\": 5, \"qn\": 1000}, \"10015\": {\"name\": \"Pen\", \"pr\": 20, \"qn\": 100}, \"10016\": {\"name\": \"Phone\", \"pr\": 50000, \"qn\": 10}, \"10017\": {\"name\": \"Mic\", \"pr\": 1500, \"qn\": 0}, \"10018\": {\"name\": \"Case\", \"pr\": 599, \"qn\": 5}, \"10019\": {\"name\": \"Microphone\", \"pr\": 1500, \"qn\": 0}, \"10020\": {\"name\": \"Case File\", \"pr\": 599, \"qn\": 5}, \"10021\": {\"name\": \"Choco Cake\", \"pr\": 100, \"qn\": 34}, \"10022\": {\"name\": \"Milk Cake\", \"pr\": 800, \"qn\": 100}, \"10023\": {\"name\": \"Drink\", \"pr\": 85, \"qn\": 100}, \"10024\": {\"name\": \"Candy\", \"pr\": 5, \"qn\": 1000}, \"10025\": {\"name\": \"Pen\", \"pr\": 20, \"qn\": 100}, \"10026\": {\"name\": \"Phone\", \"pr\": 50000, \"qn\": 10}, \"10027\": {\"name\": \"Mic\", \"pr\": 1500, \"qn\": 0}, \"10028\": {\"name\": \"Case\", \"pr\": 599, \"qn\": 5}, \"10029\": {\"name\": \"Microphone\", \"pr\": 1500, \"qn\": 0}, \"10030\": {\"name\": \"Case File\", \"pr\": 599, \"qn\": 5}, \"10031\": {\"name\": \"Choco Cake\", \"pr\": 100, \"qn\": 34}, \"10032\": {\"name\": \"Milk Cake\", \"pr\": 800, \"qn\": 100}, \"10033\": {\"name\": \"Drink\", \"pr\": 85, \"qn\": 100}, \"10034\": {\"name\": \"Candy\", \"pr\": 5, \"qn\": 1000}, \"10035\": {\"name\": \"Pen\", \"pr\": 20, \"qn\": 100}, \"10036\": {\"name\": \"Phone\", \"pr\": 50000, \"qn\": 10}, \"10037\": {\"name\": \"Mic\", \"pr\": 1500, \"qn\": 0}, \"10038\": {\"name\": \"Case\", \"pr\": 599, \"qn\": 5}, \"10039\": {\"name\": \"Microphone\", \"pr\": 1500, \"qn\": 0}, \"10040\": {\"name\": \"Case File\", \"pr\": 599, \"qn\": 5}, \"10041\": {\"name\": \"Choco Cake\", \"pr\": 100, \"qn\": 34}, \"10042\": {\"name\": \"Milk Cake\", \"pr\": 800, \"qn\": 100}, \"10043\": {\"name\": \"Drink\", \"pr\": 85, \"qn\": 100}, \"10044\": {\"name\": \"Candy\", \"pr\": 5, \"qn\": 1000}, \"10045\": {\"name\": \"Pen\", \"pr\": 20, \"qn\": 100}, \"10046\": {\"name\": \"Phone\", \"pr\": 50000, \"qn\": 10}, \"10047\": {\"name\": \"Mic\", \"pr\": 1500, \"qn\": 0}, \"10048\": {\"name\": \"Case\", \"pr\": 599, \"qn\": 5}, \"10049\": {\"name\": \"Microphone\", \"pr\": 1500, \"qn\": 0}, \"10050\": {\"name\": \"Case File\", \"pr\": 599, \"qn\": 5}}'"
            ]
          },
          "metadata": {},
          "execution_count": 79
        }
      ]
    },
    {
      "cell_type": "code",
      "metadata": {
        "colab": {
          "base_uri": "https://localhost:8080/"
        },
        "id": "qLxqVNt4T4uo",
        "outputId": "056a212c-c8dd-4dcf-b056-357623d681ae"
      },
      "source": [
        "type(rec)"
      ],
      "execution_count": 80,
      "outputs": [
        {
          "output_type": "execute_result",
          "data": {
            "text/plain": [
              "dict"
            ]
          },
          "metadata": {},
          "execution_count": 80
        }
      ]
    },
    {
      "cell_type": "code",
      "metadata": {
        "id": "JaGdrgkeRMpn"
      },
      "source": [
        "fd = open(\"rec.json\",'w')\n",
        "\n",
        "fd.write(js)\n",
        "\n",
        "fd.close()"
      ],
      "execution_count": 81,
      "outputs": []
    },
    {
      "cell_type": "code",
      "metadata": {
        "id": "OovdnNYCQkU2"
      },
      "source": [
        "\n",
        "fd = open(\"rec.json\",'r')\n",
        "r = fd.read()\n",
        "fd.close()\n",
        "\n",
        "recs = json.loads(r)"
      ],
      "execution_count": 82,
      "outputs": []
    },
    {
      "cell_type": "code",
      "metadata": {
        "id": "xAfH-rRnGeeV",
        "colab": {
          "base_uri": "https://localhost:8080/"
        },
        "outputId": "450e4763-970d-45c1-ec48-6dca50a81301"
      },
      "source": [
        "rec"
      ],
      "execution_count": 83,
      "outputs": [
        {
          "output_type": "execute_result",
          "data": {
            "text/plain": [
              "{'1001': {'name': 'Choco Cake', 'pr': 100, 'qn': 34},\n",
              " '10010': {'name': 'Case File', 'pr': 599, 'qn': 5},\n",
              " '10011': {'name': 'Choco Cake', 'pr': 100, 'qn': 34},\n",
              " '10012': {'name': 'Milk Cake', 'pr': 800, 'qn': 100},\n",
              " '10013': {'name': 'Drink', 'pr': 85, 'qn': 100},\n",
              " '10014': {'name': 'Candy', 'pr': 5, 'qn': 1000},\n",
              " '10015': {'name': 'Pen', 'pr': 20, 'qn': 100},\n",
              " '10016': {'name': 'Phone', 'pr': 50000, 'qn': 10},\n",
              " '10017': {'name': 'Mic', 'pr': 1500, 'qn': 0},\n",
              " '10018': {'name': 'Case', 'pr': 599, 'qn': 5},\n",
              " '10019': {'name': 'Microphone', 'pr': 1500, 'qn': 0},\n",
              " '1002': {'name': 'Milk Cake', 'pr': 800, 'qn': 100},\n",
              " '10020': {'name': 'Case File', 'pr': 599, 'qn': 5},\n",
              " '10021': {'name': 'Choco Cake', 'pr': 100, 'qn': 34},\n",
              " '10022': {'name': 'Milk Cake', 'pr': 800, 'qn': 100},\n",
              " '10023': {'name': 'Drink', 'pr': 85, 'qn': 100},\n",
              " '10024': {'name': 'Candy', 'pr': 5, 'qn': 1000},\n",
              " '10025': {'name': 'Pen', 'pr': 20, 'qn': 100},\n",
              " '10026': {'name': 'Phone', 'pr': 50000, 'qn': 10},\n",
              " '10027': {'name': 'Mic', 'pr': 1500, 'qn': 0},\n",
              " '10028': {'name': 'Case', 'pr': 599, 'qn': 5},\n",
              " '10029': {'name': 'Microphone', 'pr': 1500, 'qn': 0},\n",
              " '1003': {'name': 'Drink', 'pr': 85, 'qn': 100},\n",
              " '10030': {'name': 'Case File', 'pr': 599, 'qn': 5},\n",
              " '10031': {'name': 'Choco Cake', 'pr': 100, 'qn': 34},\n",
              " '10032': {'name': 'Milk Cake', 'pr': 800, 'qn': 100},\n",
              " '10033': {'name': 'Drink', 'pr': 85, 'qn': 100},\n",
              " '10034': {'name': 'Candy', 'pr': 5, 'qn': 1000},\n",
              " '10035': {'name': 'Pen', 'pr': 20, 'qn': 100},\n",
              " '10036': {'name': 'Phone', 'pr': 50000, 'qn': 10},\n",
              " '10037': {'name': 'Mic', 'pr': 1500, 'qn': 0},\n",
              " '10038': {'name': 'Case', 'pr': 599, 'qn': 5},\n",
              " '10039': {'name': 'Microphone', 'pr': 1500, 'qn': 0},\n",
              " '1004': {'name': 'Candy', 'pr': 5, 'qn': 1000},\n",
              " '10040': {'name': 'Case File', 'pr': 599, 'qn': 5},\n",
              " '10041': {'name': 'Choco Cake', 'pr': 100, 'qn': 34},\n",
              " '10042': {'name': 'Milk Cake', 'pr': 800, 'qn': 100},\n",
              " '10043': {'name': 'Drink', 'pr': 85, 'qn': 100},\n",
              " '10044': {'name': 'Candy', 'pr': 5, 'qn': 1000},\n",
              " '10045': {'name': 'Pen', 'pr': 20, 'qn': 100},\n",
              " '10046': {'name': 'Phone', 'pr': 50000, 'qn': 10},\n",
              " '10047': {'name': 'Mic', 'pr': 1500, 'qn': 0},\n",
              " '10048': {'name': 'Case', 'pr': 599, 'qn': 5},\n",
              " '10049': {'name': 'Microphone', 'pr': 1500, 'qn': 0},\n",
              " '1005': {'name': 'Pen', 'pr': 20, 'qn': 100},\n",
              " '10050': {'name': 'Case File', 'pr': 599, 'qn': 5},\n",
              " '1006': {'name': 'Phone', 'pr': 50000, 'qn': 10},\n",
              " '1007': {'name': 'Mic', 'pr': 1500, 'qn': 0},\n",
              " '1008': {'name': 'Case', 'pr': 599, 'qn': 5},\n",
              " '1009': {'name': 'Microphone', 'pr': 1500, 'qn': 0}}"
            ]
          },
          "metadata": {},
          "execution_count": 83
        }
      ]
    },
    {
      "cell_type": "markdown",
      "metadata": {
        "id": "OZ8xAYGVJCYG"
      },
      "source": [
        "# ***PRODUCT*** ***ADDITION***"
      ]
    },
    {
      "cell_type": "code",
      "metadata": {
        "id": "wnCmOPwgGegA",
        "colab": {
          "base_uri": "https://localhost:8080/"
        },
        "outputId": "921f3fd5-6834-47d6-b404-3dfa6cb0dc13"
      },
      "source": [
        "prod_id = str(input(\"Enter product id:\"))\n",
        "name = str(input(\"Enter name:\"))\n",
        "pr = int(input(\"Enter price:\"))\n",
        "qn = int(input(\"Enter quantity:\"))\n",
        "\n",
        "rec[prod_id] = {'name': name, 'pr': pr, 'qn': qn}\n",
        "\n",
        "js = json.dumps(rec)\n",
        "\n",
        "fd = open(\"rec.json\",'w')\n",
        "fd.write(js)\n",
        "fd.close()"
      ],
      "execution_count": 84,
      "outputs": [
        {
          "name": "stdout",
          "output_type": "stream",
          "text": [
            "Enter product id:10076\n",
            "Enter name:ELVES\n",
            "Enter price:56\n",
            "Enter quantity:98\n"
          ]
        }
      ]
    },
    {
      "cell_type": "code",
      "metadata": {
        "id": "iDimB27VGejB",
        "colab": {
          "base_uri": "https://localhost:8080/"
        },
        "outputId": "853487ae-ed5c-40fb-a6bd-73da9f4b87d2"
      },
      "source": [
        "rec"
      ],
      "execution_count": 85,
      "outputs": [
        {
          "output_type": "execute_result",
          "data": {
            "text/plain": [
              "{'1001': {'name': 'Choco Cake', 'pr': 100, 'qn': 34},\n",
              " '10010': {'name': 'Case File', 'pr': 599, 'qn': 5},\n",
              " '10011': {'name': 'Choco Cake', 'pr': 100, 'qn': 34},\n",
              " '10012': {'name': 'Milk Cake', 'pr': 800, 'qn': 100},\n",
              " '10013': {'name': 'Drink', 'pr': 85, 'qn': 100},\n",
              " '10014': {'name': 'Candy', 'pr': 5, 'qn': 1000},\n",
              " '10015': {'name': 'Pen', 'pr': 20, 'qn': 100},\n",
              " '10016': {'name': 'Phone', 'pr': 50000, 'qn': 10},\n",
              " '10017': {'name': 'Mic', 'pr': 1500, 'qn': 0},\n",
              " '10018': {'name': 'Case', 'pr': 599, 'qn': 5},\n",
              " '10019': {'name': 'Microphone', 'pr': 1500, 'qn': 0},\n",
              " '1002': {'name': 'Milk Cake', 'pr': 800, 'qn': 100},\n",
              " '10020': {'name': 'Case File', 'pr': 599, 'qn': 5},\n",
              " '10021': {'name': 'Choco Cake', 'pr': 100, 'qn': 34},\n",
              " '10022': {'name': 'Milk Cake', 'pr': 800, 'qn': 100},\n",
              " '10023': {'name': 'Drink', 'pr': 85, 'qn': 100},\n",
              " '10024': {'name': 'Candy', 'pr': 5, 'qn': 1000},\n",
              " '10025': {'name': 'Pen', 'pr': 20, 'qn': 100},\n",
              " '10026': {'name': 'Phone', 'pr': 50000, 'qn': 10},\n",
              " '10027': {'name': 'Mic', 'pr': 1500, 'qn': 0},\n",
              " '10028': {'name': 'Case', 'pr': 599, 'qn': 5},\n",
              " '10029': {'name': 'Microphone', 'pr': 1500, 'qn': 0},\n",
              " '1003': {'name': 'Drink', 'pr': 85, 'qn': 100},\n",
              " '10030': {'name': 'Case File', 'pr': 599, 'qn': 5},\n",
              " '10031': {'name': 'Choco Cake', 'pr': 100, 'qn': 34},\n",
              " '10032': {'name': 'Milk Cake', 'pr': 800, 'qn': 100},\n",
              " '10033': {'name': 'Drink', 'pr': 85, 'qn': 100},\n",
              " '10034': {'name': 'Candy', 'pr': 5, 'qn': 1000},\n",
              " '10035': {'name': 'Pen', 'pr': 20, 'qn': 100},\n",
              " '10036': {'name': 'Phone', 'pr': 50000, 'qn': 10},\n",
              " '10037': {'name': 'Mic', 'pr': 1500, 'qn': 0},\n",
              " '10038': {'name': 'Case', 'pr': 599, 'qn': 5},\n",
              " '10039': {'name': 'Microphone', 'pr': 1500, 'qn': 0},\n",
              " '1004': {'name': 'Candy', 'pr': 5, 'qn': 1000},\n",
              " '10040': {'name': 'Case File', 'pr': 599, 'qn': 5},\n",
              " '10041': {'name': 'Choco Cake', 'pr': 100, 'qn': 34},\n",
              " '10042': {'name': 'Milk Cake', 'pr': 800, 'qn': 100},\n",
              " '10043': {'name': 'Drink', 'pr': 85, 'qn': 100},\n",
              " '10044': {'name': 'Candy', 'pr': 5, 'qn': 1000},\n",
              " '10045': {'name': 'Pen', 'pr': 20, 'qn': 100},\n",
              " '10046': {'name': 'Phone', 'pr': 50000, 'qn': 10},\n",
              " '10047': {'name': 'Mic', 'pr': 1500, 'qn': 0},\n",
              " '10048': {'name': 'Case', 'pr': 599, 'qn': 5},\n",
              " '10049': {'name': 'Microphone', 'pr': 1500, 'qn': 0},\n",
              " '1005': {'name': 'Pen', 'pr': 20, 'qn': 100},\n",
              " '10050': {'name': 'Case File', 'pr': 599, 'qn': 5},\n",
              " '1006': {'name': 'Phone', 'pr': 50000, 'qn': 10},\n",
              " '1007': {'name': 'Mic', 'pr': 1500, 'qn': 0},\n",
              " '10076': {'name': 'ELVES', 'pr': 56, 'qn': 98},\n",
              " '1008': {'name': 'Case', 'pr': 599, 'qn': 5},\n",
              " '1009': {'name': 'Microphone', 'pr': 1500, 'qn': 0}}"
            ]
          },
          "metadata": {},
          "execution_count": 85
        }
      ]
    },
    {
      "cell_type": "code",
      "metadata": {
        "id": "c-8zx1IrGeq0"
      },
      "source": [
        "del rec['1001']"
      ],
      "execution_count": 86,
      "outputs": []
    },
    {
      "cell_type": "code",
      "metadata": {
        "id": "41KoIalrGetX",
        "colab": {
          "base_uri": "https://localhost:8080/"
        },
        "outputId": "26633bb6-2a2c-4119-94ca-a7a424f409d2"
      },
      "source": [
        "rec"
      ],
      "execution_count": 87,
      "outputs": [
        {
          "output_type": "execute_result",
          "data": {
            "text/plain": [
              "{'10010': {'name': 'Case File', 'pr': 599, 'qn': 5},\n",
              " '10011': {'name': 'Choco Cake', 'pr': 100, 'qn': 34},\n",
              " '10012': {'name': 'Milk Cake', 'pr': 800, 'qn': 100},\n",
              " '10013': {'name': 'Drink', 'pr': 85, 'qn': 100},\n",
              " '10014': {'name': 'Candy', 'pr': 5, 'qn': 1000},\n",
              " '10015': {'name': 'Pen', 'pr': 20, 'qn': 100},\n",
              " '10016': {'name': 'Phone', 'pr': 50000, 'qn': 10},\n",
              " '10017': {'name': 'Mic', 'pr': 1500, 'qn': 0},\n",
              " '10018': {'name': 'Case', 'pr': 599, 'qn': 5},\n",
              " '10019': {'name': 'Microphone', 'pr': 1500, 'qn': 0},\n",
              " '1002': {'name': 'Milk Cake', 'pr': 800, 'qn': 100},\n",
              " '10020': {'name': 'Case File', 'pr': 599, 'qn': 5},\n",
              " '10021': {'name': 'Choco Cake', 'pr': 100, 'qn': 34},\n",
              " '10022': {'name': 'Milk Cake', 'pr': 800, 'qn': 100},\n",
              " '10023': {'name': 'Drink', 'pr': 85, 'qn': 100},\n",
              " '10024': {'name': 'Candy', 'pr': 5, 'qn': 1000},\n",
              " '10025': {'name': 'Pen', 'pr': 20, 'qn': 100},\n",
              " '10026': {'name': 'Phone', 'pr': 50000, 'qn': 10},\n",
              " '10027': {'name': 'Mic', 'pr': 1500, 'qn': 0},\n",
              " '10028': {'name': 'Case', 'pr': 599, 'qn': 5},\n",
              " '10029': {'name': 'Microphone', 'pr': 1500, 'qn': 0},\n",
              " '1003': {'name': 'Drink', 'pr': 85, 'qn': 100},\n",
              " '10030': {'name': 'Case File', 'pr': 599, 'qn': 5},\n",
              " '10031': {'name': 'Choco Cake', 'pr': 100, 'qn': 34},\n",
              " '10032': {'name': 'Milk Cake', 'pr': 800, 'qn': 100},\n",
              " '10033': {'name': 'Drink', 'pr': 85, 'qn': 100},\n",
              " '10034': {'name': 'Candy', 'pr': 5, 'qn': 1000},\n",
              " '10035': {'name': 'Pen', 'pr': 20, 'qn': 100},\n",
              " '10036': {'name': 'Phone', 'pr': 50000, 'qn': 10},\n",
              " '10037': {'name': 'Mic', 'pr': 1500, 'qn': 0},\n",
              " '10038': {'name': 'Case', 'pr': 599, 'qn': 5},\n",
              " '10039': {'name': 'Microphone', 'pr': 1500, 'qn': 0},\n",
              " '1004': {'name': 'Candy', 'pr': 5, 'qn': 1000},\n",
              " '10040': {'name': 'Case File', 'pr': 599, 'qn': 5},\n",
              " '10041': {'name': 'Choco Cake', 'pr': 100, 'qn': 34},\n",
              " '10042': {'name': 'Milk Cake', 'pr': 800, 'qn': 100},\n",
              " '10043': {'name': 'Drink', 'pr': 85, 'qn': 100},\n",
              " '10044': {'name': 'Candy', 'pr': 5, 'qn': 1000},\n",
              " '10045': {'name': 'Pen', 'pr': 20, 'qn': 100},\n",
              " '10046': {'name': 'Phone', 'pr': 50000, 'qn': 10},\n",
              " '10047': {'name': 'Mic', 'pr': 1500, 'qn': 0},\n",
              " '10048': {'name': 'Case', 'pr': 599, 'qn': 5},\n",
              " '10049': {'name': 'Microphone', 'pr': 1500, 'qn': 0},\n",
              " '1005': {'name': 'Pen', 'pr': 20, 'qn': 100},\n",
              " '10050': {'name': 'Case File', 'pr': 599, 'qn': 5},\n",
              " '1006': {'name': 'Phone', 'pr': 50000, 'qn': 10},\n",
              " '1007': {'name': 'Mic', 'pr': 1500, 'qn': 0},\n",
              " '10076': {'name': 'ELVES', 'pr': 56, 'qn': 98},\n",
              " '1008': {'name': 'Case', 'pr': 599, 'qn': 5},\n",
              " '1009': {'name': 'Microphone', 'pr': 1500, 'qn': 0}}"
            ]
          },
          "metadata": {},
          "execution_count": 87
        }
      ]
    },
    {
      "cell_type": "code",
      "metadata": {
        "id": "FAIKYpfPGev0"
      },
      "source": [
        "import json\n",
        "\n",
        "fd = open(\"rec.json\",'r')\n",
        "r = fd.read()\n",
        "fd.close()\n",
        "\n",
        "recs = json.loads(r)"
      ],
      "execution_count": 88,
      "outputs": []
    },
    {
      "cell_type": "code",
      "metadata": {
        "colab": {
          "base_uri": "https://localhost:8080/"
        },
        "id": "5GvJ2K9WT9xu",
        "outputId": "3a8be1d7-779d-4486-b13d-12b183f79edf"
      },
      "source": [
        "type(recs)"
      ],
      "execution_count": 89,
      "outputs": [
        {
          "output_type": "execute_result",
          "data": {
            "text/plain": [
              "dict"
            ]
          },
          "metadata": {},
          "execution_count": 89
        }
      ]
    },
    {
      "cell_type": "code",
      "metadata": {
        "id": "fp0ukIZBGey9",
        "colab": {
          "base_uri": "https://localhost:8080/"
        },
        "outputId": "fa5effd2-82bb-4452-a6b3-df1201f2ba98"
      },
      "source": [
        "recs"
      ],
      "execution_count": 90,
      "outputs": [
        {
          "output_type": "execute_result",
          "data": {
            "text/plain": [
              "{'1001': {'name': 'Choco Cake', 'pr': 100, 'qn': 34},\n",
              " '10010': {'name': 'Case File', 'pr': 599, 'qn': 5},\n",
              " '10011': {'name': 'Choco Cake', 'pr': 100, 'qn': 34},\n",
              " '10012': {'name': 'Milk Cake', 'pr': 800, 'qn': 100},\n",
              " '10013': {'name': 'Drink', 'pr': 85, 'qn': 100},\n",
              " '10014': {'name': 'Candy', 'pr': 5, 'qn': 1000},\n",
              " '10015': {'name': 'Pen', 'pr': 20, 'qn': 100},\n",
              " '10016': {'name': 'Phone', 'pr': 50000, 'qn': 10},\n",
              " '10017': {'name': 'Mic', 'pr': 1500, 'qn': 0},\n",
              " '10018': {'name': 'Case', 'pr': 599, 'qn': 5},\n",
              " '10019': {'name': 'Microphone', 'pr': 1500, 'qn': 0},\n",
              " '1002': {'name': 'Milk Cake', 'pr': 800, 'qn': 100},\n",
              " '10020': {'name': 'Case File', 'pr': 599, 'qn': 5},\n",
              " '10021': {'name': 'Choco Cake', 'pr': 100, 'qn': 34},\n",
              " '10022': {'name': 'Milk Cake', 'pr': 800, 'qn': 100},\n",
              " '10023': {'name': 'Drink', 'pr': 85, 'qn': 100},\n",
              " '10024': {'name': 'Candy', 'pr': 5, 'qn': 1000},\n",
              " '10025': {'name': 'Pen', 'pr': 20, 'qn': 100},\n",
              " '10026': {'name': 'Phone', 'pr': 50000, 'qn': 10},\n",
              " '10027': {'name': 'Mic', 'pr': 1500, 'qn': 0},\n",
              " '10028': {'name': 'Case', 'pr': 599, 'qn': 5},\n",
              " '10029': {'name': 'Microphone', 'pr': 1500, 'qn': 0},\n",
              " '1003': {'name': 'Drink', 'pr': 85, 'qn': 100},\n",
              " '10030': {'name': 'Case File', 'pr': 599, 'qn': 5},\n",
              " '10031': {'name': 'Choco Cake', 'pr': 100, 'qn': 34},\n",
              " '10032': {'name': 'Milk Cake', 'pr': 800, 'qn': 100},\n",
              " '10033': {'name': 'Drink', 'pr': 85, 'qn': 100},\n",
              " '10034': {'name': 'Candy', 'pr': 5, 'qn': 1000},\n",
              " '10035': {'name': 'Pen', 'pr': 20, 'qn': 100},\n",
              " '10036': {'name': 'Phone', 'pr': 50000, 'qn': 10},\n",
              " '10037': {'name': 'Mic', 'pr': 1500, 'qn': 0},\n",
              " '10038': {'name': 'Case', 'pr': 599, 'qn': 5},\n",
              " '10039': {'name': 'Microphone', 'pr': 1500, 'qn': 0},\n",
              " '1004': {'name': 'Candy', 'pr': 5, 'qn': 1000},\n",
              " '10040': {'name': 'Case File', 'pr': 599, 'qn': 5},\n",
              " '10041': {'name': 'Choco Cake', 'pr': 100, 'qn': 34},\n",
              " '10042': {'name': 'Milk Cake', 'pr': 800, 'qn': 100},\n",
              " '10043': {'name': 'Drink', 'pr': 85, 'qn': 100},\n",
              " '10044': {'name': 'Candy', 'pr': 5, 'qn': 1000},\n",
              " '10045': {'name': 'Pen', 'pr': 20, 'qn': 100},\n",
              " '10046': {'name': 'Phone', 'pr': 50000, 'qn': 10},\n",
              " '10047': {'name': 'Mic', 'pr': 1500, 'qn': 0},\n",
              " '10048': {'name': 'Case', 'pr': 599, 'qn': 5},\n",
              " '10049': {'name': 'Microphone', 'pr': 1500, 'qn': 0},\n",
              " '1005': {'name': 'Pen', 'pr': 20, 'qn': 100},\n",
              " '10050': {'name': 'Case File', 'pr': 599, 'qn': 5},\n",
              " '1006': {'name': 'Phone', 'pr': 50000, 'qn': 10},\n",
              " '1007': {'name': 'Mic', 'pr': 1500, 'qn': 0},\n",
              " '10076': {'name': 'ELVES', 'pr': 56, 'qn': 98},\n",
              " '1008': {'name': 'Case', 'pr': 599, 'qn': 5},\n",
              " '1009': {'name': 'Microphone', 'pr': 1500, 'qn': 0}}"
            ]
          },
          "metadata": {},
          "execution_count": 90
        }
      ]
    },
    {
      "cell_type": "markdown",
      "metadata": {
        "id": "Gb2zaxpmH2cY"
      },
      "source": [
        "# ***PURCHASE***"
      ]
    },
    {
      "cell_type": "code",
      "metadata": {
        "id": "PwyvpN8ZGe33",
        "colab": {
          "base_uri": "https://localhost:8080/"
        },
        "outputId": "2ecb9582-8082-481b-ecba-98b454670085"
      },
      "source": [
        "ui_prod  = str(input(\"Enter the product_Id: \"))\n",
        "ui_quant = int(input(\"Enter the quantity: \"))\n",
        "\n",
        "\n",
        "print(\"Product: \", recs[ui_prod]['name'])\n",
        "print(\"Price: \", recs[ui_prod]['pr'])\n",
        "print(\"Billing Amount: \", recs[ui_prod]['pr'] * ui_quant)\n",
        "\n",
        "recs[ui_prod]['qn'] = recs[ui_prod]['qn'] - ui_quant"
      ],
      "execution_count": 91,
      "outputs": [
        {
          "output_type": "stream",
          "name": "stdout",
          "text": [
            "Enter the product_Id: 10034\n",
            "Enter the quantity: 2\n",
            "Product:  Candy\n",
            "Price:  5\n",
            "Billing Amount:  10\n"
          ]
        }
      ]
    },
    {
      "cell_type": "code",
      "metadata": {
        "colab": {
          "base_uri": "https://localhost:8080/"
        },
        "id": "IllHeV_cSsnR",
        "outputId": "8c484a9a-c6e5-4f81-8c4e-f25b93d352fc"
      },
      "source": [
        "recs"
      ],
      "execution_count": 92,
      "outputs": [
        {
          "output_type": "execute_result",
          "data": {
            "text/plain": [
              "{'1001': {'name': 'Choco Cake', 'pr': 100, 'qn': 34},\n",
              " '10010': {'name': 'Case File', 'pr': 599, 'qn': 5},\n",
              " '10011': {'name': 'Choco Cake', 'pr': 100, 'qn': 34},\n",
              " '10012': {'name': 'Milk Cake', 'pr': 800, 'qn': 100},\n",
              " '10013': {'name': 'Drink', 'pr': 85, 'qn': 100},\n",
              " '10014': {'name': 'Candy', 'pr': 5, 'qn': 1000},\n",
              " '10015': {'name': 'Pen', 'pr': 20, 'qn': 100},\n",
              " '10016': {'name': 'Phone', 'pr': 50000, 'qn': 10},\n",
              " '10017': {'name': 'Mic', 'pr': 1500, 'qn': 0},\n",
              " '10018': {'name': 'Case', 'pr': 599, 'qn': 5},\n",
              " '10019': {'name': 'Microphone', 'pr': 1500, 'qn': 0},\n",
              " '1002': {'name': 'Milk Cake', 'pr': 800, 'qn': 100},\n",
              " '10020': {'name': 'Case File', 'pr': 599, 'qn': 5},\n",
              " '10021': {'name': 'Choco Cake', 'pr': 100, 'qn': 34},\n",
              " '10022': {'name': 'Milk Cake', 'pr': 800, 'qn': 100},\n",
              " '10023': {'name': 'Drink', 'pr': 85, 'qn': 100},\n",
              " '10024': {'name': 'Candy', 'pr': 5, 'qn': 1000},\n",
              " '10025': {'name': 'Pen', 'pr': 20, 'qn': 100},\n",
              " '10026': {'name': 'Phone', 'pr': 50000, 'qn': 10},\n",
              " '10027': {'name': 'Mic', 'pr': 1500, 'qn': 0},\n",
              " '10028': {'name': 'Case', 'pr': 599, 'qn': 5},\n",
              " '10029': {'name': 'Microphone', 'pr': 1500, 'qn': 0},\n",
              " '1003': {'name': 'Drink', 'pr': 85, 'qn': 100},\n",
              " '10030': {'name': 'Case File', 'pr': 599, 'qn': 5},\n",
              " '10031': {'name': 'Choco Cake', 'pr': 100, 'qn': 34},\n",
              " '10032': {'name': 'Milk Cake', 'pr': 800, 'qn': 100},\n",
              " '10033': {'name': 'Drink', 'pr': 85, 'qn': 100},\n",
              " '10034': {'name': 'Candy', 'pr': 5, 'qn': 998},\n",
              " '10035': {'name': 'Pen', 'pr': 20, 'qn': 100},\n",
              " '10036': {'name': 'Phone', 'pr': 50000, 'qn': 10},\n",
              " '10037': {'name': 'Mic', 'pr': 1500, 'qn': 0},\n",
              " '10038': {'name': 'Case', 'pr': 599, 'qn': 5},\n",
              " '10039': {'name': 'Microphone', 'pr': 1500, 'qn': 0},\n",
              " '1004': {'name': 'Candy', 'pr': 5, 'qn': 1000},\n",
              " '10040': {'name': 'Case File', 'pr': 599, 'qn': 5},\n",
              " '10041': {'name': 'Choco Cake', 'pr': 100, 'qn': 34},\n",
              " '10042': {'name': 'Milk Cake', 'pr': 800, 'qn': 100},\n",
              " '10043': {'name': 'Drink', 'pr': 85, 'qn': 100},\n",
              " '10044': {'name': 'Candy', 'pr': 5, 'qn': 1000},\n",
              " '10045': {'name': 'Pen', 'pr': 20, 'qn': 100},\n",
              " '10046': {'name': 'Phone', 'pr': 50000, 'qn': 10},\n",
              " '10047': {'name': 'Mic', 'pr': 1500, 'qn': 0},\n",
              " '10048': {'name': 'Case', 'pr': 599, 'qn': 5},\n",
              " '10049': {'name': 'Microphone', 'pr': 1500, 'qn': 0},\n",
              " '1005': {'name': 'Pen', 'pr': 20, 'qn': 100},\n",
              " '10050': {'name': 'Case File', 'pr': 599, 'qn': 5},\n",
              " '1006': {'name': 'Phone', 'pr': 50000, 'qn': 10},\n",
              " '1007': {'name': 'Mic', 'pr': 1500, 'qn': 0},\n",
              " '10076': {'name': 'ELVES', 'pr': 56, 'qn': 98},\n",
              " '1008': {'name': 'Case', 'pr': 599, 'qn': 5},\n",
              " '1009': {'name': 'Microphone', 'pr': 1500, 'qn': 0}}"
            ]
          },
          "metadata": {},
          "execution_count": 92
        }
      ]
    },
    {
      "cell_type": "markdown",
      "metadata": {
        "id": "6vNufydlINdt"
      },
      "source": [
        "## ***INVENTORY*** ***UPDATION***"
      ]
    },
    {
      "cell_type": "code",
      "metadata": {
        "id": "SjKAGwjVGe_d"
      },
      "source": [
        "js = json.dumps(recs)\n",
        "\n",
        "fd = open(\"rec.json\",'w')\n",
        "fd.write(js)\n",
        "fd.close()"
      ],
      "execution_count": 93,
      "outputs": []
    },
    {
      "cell_type": "code",
      "metadata": {
        "id": "DD6tD_wjTNCb"
      },
      "source": [
        "import time"
      ],
      "execution_count": 94,
      "outputs": []
    },
    {
      "cell_type": "code",
      "metadata": {
        "colab": {
          "base_uri": "https://localhost:8080/",
          "height": 35
        },
        "id": "r7PrIXVaTOIM",
        "outputId": "c3ea1226-78d1-4b8f-9cce-e5282a089294"
      },
      "source": [
        "\n",
        "time.ctime()"
      ],
      "execution_count": 95,
      "outputs": [
        {
          "output_type": "execute_result",
          "data": {
            "application/vnd.google.colaboratory.intrinsic+json": {
              "type": "string"
            },
            "text/plain": [
              "'Mon Sep  6 13:41:58 2021'"
            ]
          },
          "metadata": {},
          "execution_count": 95
        }
      ]
    },
    {
      "cell_type": "markdown",
      "metadata": {
        "id": "gGHvtrjRInvE"
      },
      "source": [
        "# ***SALES***"
      ]
    },
    {
      "cell_type": "code",
      "metadata": {
        "id": "wtOFehJyGfEF",
        "colab": {
          "base_uri": "https://localhost:8080/"
        },
        "outputId": "a5b89df2-6d57-4b75-c95e-368650f8ebf1"
      },
      "source": [
        "{'prod' : ui_prod, 'qn' : ui_quant, 'amount': recs[ui_prod]['pr'] * ui_quant}"
      ],
      "execution_count": 96,
      "outputs": [
        {
          "output_type": "execute_result",
          "data": {
            "text/plain": [
              "{'amount': 10, 'prod': '10034', 'qn': 2}"
            ]
          },
          "metadata": {},
          "execution_count": 96
        }
      ]
    },
    {
      "cell_type": "code",
      "metadata": {
        "id": "2L4wRY2kGfHg"
      },
      "source": [
        "sales = {1 : {'prod' : ui_prod, 'qn' : ui_quant, 'amount': recs[ui_prod]['pr'] * ui_quant},\n",
        "         2 : {'prod' : ui_prod, 'qn' : ui_quant, 'amount': recs[ui_prod]['pr'] * ui_quant},\n",
        "         3 : {'prod' : ui_prod, 'qn' : ui_quant, 'amount': recs[ui_prod]['pr'] * ui_quant}}"
      ],
      "execution_count": 97,
      "outputs": []
    },
    {
      "cell_type": "code",
      "metadata": {
        "id": "dH6xHmMEI0vG"
      },
      "source": [
        "sale = json.dumps(sales)"
      ],
      "execution_count": 98,
      "outputs": []
    },
    {
      "cell_type": "code",
      "metadata": {
        "colab": {
          "base_uri": "https://localhost:8080/",
          "height": 52
        },
        "id": "yh5Y0b5vTDUe",
        "outputId": "93485bf9-4d43-4ce1-ee62-4c2219419ea1"
      },
      "source": [
        "sale"
      ],
      "execution_count": 99,
      "outputs": [
        {
          "output_type": "execute_result",
          "data": {
            "application/vnd.google.colaboratory.intrinsic+json": {
              "type": "string"
            },
            "text/plain": [
              "'{\"1\": {\"prod\": \"10034\", \"qn\": 2, \"amount\": 10}, \"2\": {\"prod\": \"10034\", \"qn\": 2, \"amount\": 10}, \"3\": {\"prod\": \"10034\", \"qn\": 2, \"amount\": 10}}'"
            ]
          },
          "metadata": {},
          "execution_count": 99
        }
      ]
    },
    {
      "cell_type": "code",
      "metadata": {
        "colab": {
          "base_uri": "https://localhost:8080/"
        },
        "id": "92dM1QXNTEUt",
        "outputId": "7f43f096-2449-474c-90f8-c55e08853e71"
      },
      "source": [
        "recs"
      ],
      "execution_count": 100,
      "outputs": [
        {
          "output_type": "execute_result",
          "data": {
            "text/plain": [
              "{'1001': {'name': 'Choco Cake', 'pr': 100, 'qn': 34},\n",
              " '10010': {'name': 'Case File', 'pr': 599, 'qn': 5},\n",
              " '10011': {'name': 'Choco Cake', 'pr': 100, 'qn': 34},\n",
              " '10012': {'name': 'Milk Cake', 'pr': 800, 'qn': 100},\n",
              " '10013': {'name': 'Drink', 'pr': 85, 'qn': 100},\n",
              " '10014': {'name': 'Candy', 'pr': 5, 'qn': 1000},\n",
              " '10015': {'name': 'Pen', 'pr': 20, 'qn': 100},\n",
              " '10016': {'name': 'Phone', 'pr': 50000, 'qn': 10},\n",
              " '10017': {'name': 'Mic', 'pr': 1500, 'qn': 0},\n",
              " '10018': {'name': 'Case', 'pr': 599, 'qn': 5},\n",
              " '10019': {'name': 'Microphone', 'pr': 1500, 'qn': 0},\n",
              " '1002': {'name': 'Milk Cake', 'pr': 800, 'qn': 100},\n",
              " '10020': {'name': 'Case File', 'pr': 599, 'qn': 5},\n",
              " '10021': {'name': 'Choco Cake', 'pr': 100, 'qn': 34},\n",
              " '10022': {'name': 'Milk Cake', 'pr': 800, 'qn': 100},\n",
              " '10023': {'name': 'Drink', 'pr': 85, 'qn': 100},\n",
              " '10024': {'name': 'Candy', 'pr': 5, 'qn': 1000},\n",
              " '10025': {'name': 'Pen', 'pr': 20, 'qn': 100},\n",
              " '10026': {'name': 'Phone', 'pr': 50000, 'qn': 10},\n",
              " '10027': {'name': 'Mic', 'pr': 1500, 'qn': 0},\n",
              " '10028': {'name': 'Case', 'pr': 599, 'qn': 5},\n",
              " '10029': {'name': 'Microphone', 'pr': 1500, 'qn': 0},\n",
              " '1003': {'name': 'Drink', 'pr': 85, 'qn': 100},\n",
              " '10030': {'name': 'Case File', 'pr': 599, 'qn': 5},\n",
              " '10031': {'name': 'Choco Cake', 'pr': 100, 'qn': 34},\n",
              " '10032': {'name': 'Milk Cake', 'pr': 800, 'qn': 100},\n",
              " '10033': {'name': 'Drink', 'pr': 85, 'qn': 100},\n",
              " '10034': {'name': 'Candy', 'pr': 5, 'qn': 998},\n",
              " '10035': {'name': 'Pen', 'pr': 20, 'qn': 100},\n",
              " '10036': {'name': 'Phone', 'pr': 50000, 'qn': 10},\n",
              " '10037': {'name': 'Mic', 'pr': 1500, 'qn': 0},\n",
              " '10038': {'name': 'Case', 'pr': 599, 'qn': 5},\n",
              " '10039': {'name': 'Microphone', 'pr': 1500, 'qn': 0},\n",
              " '1004': {'name': 'Candy', 'pr': 5, 'qn': 1000},\n",
              " '10040': {'name': 'Case File', 'pr': 599, 'qn': 5},\n",
              " '10041': {'name': 'Choco Cake', 'pr': 100, 'qn': 34},\n",
              " '10042': {'name': 'Milk Cake', 'pr': 800, 'qn': 100},\n",
              " '10043': {'name': 'Drink', 'pr': 85, 'qn': 100},\n",
              " '10044': {'name': 'Candy', 'pr': 5, 'qn': 1000},\n",
              " '10045': {'name': 'Pen', 'pr': 20, 'qn': 100},\n",
              " '10046': {'name': 'Phone', 'pr': 50000, 'qn': 10},\n",
              " '10047': {'name': 'Mic', 'pr': 1500, 'qn': 0},\n",
              " '10048': {'name': 'Case', 'pr': 599, 'qn': 5},\n",
              " '10049': {'name': 'Microphone', 'pr': 1500, 'qn': 0},\n",
              " '1005': {'name': 'Pen', 'pr': 20, 'qn': 100},\n",
              " '10050': {'name': 'Case File', 'pr': 599, 'qn': 5},\n",
              " '1006': {'name': 'Phone', 'pr': 50000, 'qn': 10},\n",
              " '1007': {'name': 'Mic', 'pr': 1500, 'qn': 0},\n",
              " '10076': {'name': 'ELVES', 'pr': 56, 'qn': 98},\n",
              " '1008': {'name': 'Case', 'pr': 599, 'qn': 5},\n",
              " '1009': {'name': 'Microphone', 'pr': 1500, 'qn': 0}}"
            ]
          },
          "metadata": {},
          "execution_count": 100
        }
      ]
    },
    {
      "cell_type": "markdown",
      "metadata": {
        "id": "p8gdLTS2UJ17"
      },
      "source": [
        "---\n",
        "\n",
        "\n",
        "\n",
        "---\n",
        "\n",
        "> # ***THANK YOU*** **✌️ 😀 ✌️**\n",
        "\n",
        "\n",
        "---\n",
        "\n",
        "\n",
        "\n",
        "---\n",
        "\n"
      ]
    }
  ]
}